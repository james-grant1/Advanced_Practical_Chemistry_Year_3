{
 "cells": [
  {
   "cell_type": "markdown",
   "metadata": {},
   "source": [
    "# Week 3 \n",
    "## Introduction to Solid State "
   ]
  },
  {
   "cell_type": "code",
   "execution_count": null,
   "metadata": {},
   "outputs": [],
   "source": [
    "import numpy as np\n",
    "import matplotlib.pyplot as plt\n",
    "import os\n",
    "import subprocess\n",
    "from polypy.read import History\n",
    "from polypy.msd import MSD\n",
    "from polypy import plotting\n",
    "\n",
    "def get_diffusion(file, atom):\n",
    "    \n",
    "    with open(file) as f:\n",
    "        y = False\n",
    "        for line in f:\n",
    "            if str(\"atom        D \") in line:\n",
    "                y = True\n",
    "            if y == True and str(atom) in line:\n",
    "                d = line.split()\n",
    "                break\n",
    "    return d"
   ]
  },
  {
   "cell_type": "markdown",
   "metadata": {},
   "source": [
    "# Background#\n",
    "\n",
    "\n",
    "Now that you are familiar with molecular dynamics, you are now going to use it to tackle some real world problems. \n",
    "\n",
    "The transport properties of a material determine many properties that are utilised for modern technological applications. For example, solid oxide fuel cell (SOFCs), which are an alternative to batteries, materials are dependent on the movement of charge carriers through the solid electrolyte. Another example are nuclear fuel materials which oxidise and fall apart - this corrosive behaviour is dependent on the diffusion of oxygen into the lattice. \n",
    "\n",
    "Due to the importance of the transport properties of these materials, scientists and engineers spend large amounts of their time tring to optomise these properties using different stoichiometries, introducing defects and by using different syntheisis techniques."
   ]
  },
  {
   "cell_type": "markdown",
   "metadata": {},
   "source": [
    "# Aim and Objectives #\n",
    "\n",
    "The **Aim** of the next **five weeks** is to **investigate** the transport properties of a simple fluorite material - CaF$_2$. \n",
    "\n",
    "The **first objective** is to **investigate** how the transport properties of CaF$_2$ are affected by temperature\n",
    "\n",
    "The **second objective** is to **investigate** how the transport properties of CaF$_2$ are affected by structural defects (Schottky and Frenkel).\n",
    "\n",
    "The **third objective** is to **investigate** how the transport properties of CaF$_2$ are affected by chemcial dopants (e.g. different cations). \n",
    "\n",
    "A rough breakdown looks as follows:\n",
    "\n",
    "**Week 3** \n",
    "-  Molecular dynamics simulations of stoichiomteric CaF$_2$\n",
    "\n",
    "\n",
    "**Week 4**\n",
    "-  Molecular dynamics simulations of CaF$_2$ containing Schottky defects \n",
    "\n",
    "\n",
    "**Week 5**\n",
    "- Molecular dynamics simulations of CaF$_2$ containing Frenkel defects \n",
    "\n",
    "\n",
    "**Week 6**\n",
    "-  Molecular dynamics simulations of CaF$_2$ containing various dopants \n",
    "\n",
    "\n",
    "**Week 7**\n",
    "-  Molecular dynamics simulations of CaF$_2$ containing various dopants \n",
    "    \n",
    "\n",
    "By these **five weeks** you will be able to:\n",
    "\n",
    "- Perform molecular dynamics simulations at different temperatures\n",
    "- Manipulate the input files\n",
    "- Adjust the ensemble for the simulation\n",
    "- Examine the volume and energy of different simulations\n",
    "- Apply VMD to visualize the simulation cell and evaluate radial distribution - coefficients\n",
    "\n",
    "The **Aim** of this **week** (week 3) is to **investigate** the temperature-dependence of the transport properties of a simple fluorite material CaF$_2$ using molecular dynamics (MD). \n",
    "\n",
    "The **first objective** is to **familiarise** yourself with the molecular simulation software package <code>DL_POLY</code>\n",
    "\n",
    "The **second objective** is to **complete** a tutorial which demonstrates how to calculate diffusion coefficients\n",
    "\n",
    "The **third objective** is to is to **complete** a tutorial which demonstrates how to **calculate** the activation energy barrier of F diffusion "
   ]
  },
  {
   "cell_type": "markdown",
   "metadata": {},
   "source": [
    "## Introduction to DL_POLY\n",
    "\n",
    "<code>DL_POLY</code> is a molecular dynamics (MD) program maintained by Daresbury laboratories. In contrast to <code>pylj</code>, <code>DL_POLY</code> is a three-dimensional MD code that is used worldwide by computational scientists for molecular simulation, but it should be noted that the theory is exactly the same and any understanding gained from <code>pylj</code> is completely applicable to <code>DL_POLY</code>. \n",
    "\n",
    "For the next five weeks you will use <code>DL_POLY</code> to run short MD simulations on CaF$_2$. You first need to understand the input files required for <code>DL_POLY</code>.\n",
    "\n",
    "<code>**CONTROL**</code>\n",
    "\n",
    "This is the file that contains all of the simulation parameters, e.g. simulation temperature, pressure, number of steps etc.\n",
    "\n",
    "<code>**CONFIG**</code>\n",
    "\n",
    "This is the file that contains the structure - i.e. the atomic coordinates of each atom.\n",
    "\n",
    "<code>**FIELD**</code> \n",
    "\n",
    "This is the file that contains the force field or potential model e.g. Lennard-Jones. "
   ]
  },
  {
   "cell_type": "markdown",
   "metadata": {},
   "source": [
    "# Exercise 1: Setting Up an MD Simulation#\n",
    "\n",
    "First, we will use <code>METADISE</code> to produce <code>DL_POLY</code> input files.\n",
    "\n",
    "Contained within the folder <code>Input/</code> you will find a file called <code>input.txt</code>. \n",
    "\n",
    "This is the main file that you will interact with over the next five weeks and is the input file for <code>METADISE</code> which generates the 3 <code>DL_POLY</code> input files: <code>FIELD</code>, <code>CONTROL</code> and <code>CONFIG</code>. \n",
    "\n",
    "Essentially it is easier to meddle with <code>input.txt</code> than it is to meddle with the 3 <code>DL_POLY</code> files everytime you want to change something. \n",
    "\n",
    "To run <code>METADISE</code> we will use the <code>subprocess</code> <code>python</code> module. \n",
    "\n",
    "To use <code>subprocess</code> - specify what program you want to run and the file that you want to run it in, you will need to ensure the file path is correct. \n",
    "\n",
    "To **generate** the 3 <code>DL_POLY</code> input files: <code>FIELD</code>, <code>CONTROL</code> and <code>CONFIG</code>, **run** the cell below:"
   ]
  },
  {
   "cell_type": "code",
   "execution_count": null,
   "metadata": {},
   "outputs": [],
   "source": [
    "subprocess.call('metadise', cwd='Input/')\n",
    "os.rename('Input/control_o0001no.dlp', 'Input/CONTROL')\n",
    "os.rename('Input/config__o0001no.dlp', 'Input/CONFIG')\n",
    "os.rename('Input/field___o0001no.dlp', 'Input/FIELD')"
   ]
  },
  {
   "cell_type": "markdown",
   "metadata": {},
   "source": [
    "Now you should have a <code>CONFIG</code>, <code>CONTROL</code> and <code>FIELD</code> file within the <code>Input/</code> directory. \n",
    "\n",
    "In theory you could just call the <code>DL_POLY</code> program in this directory and your simulation would run. \n",
    "\n",
    "However, we need to tweak the <code>CONTROL</code> file in order to set up our desired simulation. \n",
    "\n",
    "Make a new subdirectory in the <code>week 3</code> directory named <code>\"Example/\"</code> and copy <code>CONFIG</code>, <code>CONTROL</code> and <code>FIELD</code> to that subdirectory. \n",
    "\n",
    "1. Now **edit** the <code>CONTROL</code> file by returning to the Jupyterhub home page open the `Input` folder and click on `CONTROL`, you can also view the other files in this way, but take care not to save any accidental changes.  \n",
    "2. Change the following:  \n",
    "\n",
    "```\n",
    "Temperature 300 ---> Temperature 1500  \n",
    "Steps 5001 ---> Steps 40000  \n",
    "ensemble nve ---> ensemble npt hoover 0.1 0.5  \n",
    "trajectory nstraj= 1    istraj=   250 keytrj=0 ---> trajectory nstraj= 0   istraj= 100  keytrj=0\n",
    "```  \n",
    "\n",
    "3. Click on File and save your changes\n",
    "4. Now your simulation is ready, **check** the structure before you run the simulation. You can visualise the <code>CONFIG</code> using VESTA on your PC by clicking on File and downloading the file.\n",
    "\n",
    "It is always good to **check** your structure before (<code>CONFIG</code>) and after (<code>REVCON</code>) the simulation. \n",
    "You can view the <code>CONFIG</code> and <code>REVCON</code> files in three dimensions using the <code>VESTA</code> program. <code>VESTA</code> can generate nice pictures which will look very good in a lab report. \n",
    "\n",
    "<center>\n",
    "    <br>\n",
    "    <img src=\"./figures/vesta.png\\\" width=\\\"400px\\\">\n",
    "    <i>Figure 1. Fluorite CaF$_2$ unit cell visualised in VESTA.</i>\n",
    "    <br>\n",
    "</center>"
   ]
  },
  {
   "cell_type": "markdown",
   "metadata": {},
   "source": [
    "# Exercise 2: Running an MD Simulation\n",
    "\n",
    "Now we have <code>DL_POLY</code> input files, we will run an MD simulation using <code>DL_POLY</code>.\n",
    "\n",
    "1. **Run** <code>DL_POLY</code> from within the notebook use the command below \n",
    "\n",
    "Keep in mind that this simulation will take 10 or so minutes so be patient.  You can read through the next sections but won't be able to execute the subsequent cells until it has finished (when `in [*]` changes to `In [3]` where 3 may be different).\n"
   ]
  },
  {
   "cell_type": "code",
   "execution_count": null,
   "metadata": {},
   "outputs": [],
   "source": [
    "subprocess.call('dlpoly', cwd='Example/')"
   ]
  },
  {
   "cell_type": "markdown",
   "metadata": {},
   "source": [
    "# Exercise 3: Inspecting an MD Simulation\n",
    "\n",
    "Now we have run an MD simulation using <code>DL_POLY</code> we can analyse the data using the <code>VESTA</code>\n",
    "\n",
    "\n",
    "Once <code>DL_POLY</code> has completed you will find several files relating to your simulaton. \n",
    "\n",
    "<code> **HISTORY** </code>\n",
    "\n",
    "This file contains the configuration of your system at each step during the simulation, known as a _trajectory_. You can view this as a movie using <code>VMD</code> \n",
    "\n",
    "<code> **STATIS** </code>\n",
    "\n",
    "Contains the statistics at each step of the simulation.\n",
    "\n",
    "<code> **OUTPUT** </code>\n",
    "\n",
    "Contains various properties of the simulation. \n",
    "\n",
    "<code> **REVCON** </code> \n",
    "\n",
    "This is the configuration at the end of the simulation.  Can be viewed in <code>VESTA</code> by downloading it to your PC. **Check** to see how it has changed, compare it to the <code>CONFIG</code> file. \n"
   ]
  },
  {
   "cell_type": "markdown",
   "metadata": {},
   "source": [
    "# Exercise 4: Analysing the Diffusion Properties\n",
    "\n",
    "\n",
    "Now we have inspected the final structure from the simulation, we can calculate the diffusion coefficient.\n",
    "\n",
    "\n",
    "## Mean Squared Displacements - Calculating Diffusion Coefficients\n",
    "\n",
    "As we have seen molecules in liquds, gases and solids do not stay in the same place and move constantly. Think about a drop of dye in a glass of water, as time passes the dye distributes throughout the water. This process is called diffusion and is common throughout nature.  \n",
    "\n",
    "Using the dye as an example, the motion of a dye molecule is not simple. As it moves it is jostled by collisions with other molecules, preventing it from moving in a straight path. If the path is examined in close detail, it will be seen to be a good approximation to a _random walk_. \n",
    "\n",
    "In mathmatics, a random walk is a series of steps, each taken in a random direction. This was analysed by Albert Einstein in a study of _Brownian motion_ and he showed that the mean square of the distance travelled by a particle following a random walk is proportional to the time elapsed, as given by: \n",
    "\\begin{align}\n",
    "\\Big \\langle r^2 \\big \\rangle & = 6 D_t + C \n",
    "\\end{align}\n",
    "\n",
    "where $\\Big \\langle r^2 \\big \\rangle$ is the mean squared distance, t is time, D is the diffusion rate and C is a constant. \n",
    "\n",
    "## What is the Mean Squared Displacement?\n",
    "\n",
    "Going back to the example of the dye in water, lets assume for the sake of simplicity that we are in one dimension. Each step can either be forwards or backwards and we cannot predict which.\n",
    "From a given starting position, what distance is our dye molecule likely to travel after 1000 steps? This can be determined simply by adding together the steps, taking into account the fact that steps backwards subtract from the total, while steps forward add to the total. Since both forward and backward steps are equally probable, we come to the surprising conclusion that the probable distance travelled sums up to zero.\n",
    "\n",
    "By adding the square of the distance we will always be adding positive numbers to our total which now increases linearly with time. Based upon equation 1 it should now be clear that a plot of $\\Big \\langle r^2 \\big \\rangle$ vs time with produce a line, the gradient of which is equal to 6D. Giving us direct access to the diffusion coefficient of the system. \n",
    "\n",
    "Lets try explore this with an example. \n",
    "\n",
    "1. **Run** a short <code>DL_POLY</code> simulation on the input files provided."
   ]
  },
  {
   "cell_type": "markdown",
   "metadata": {},
   "source": [
    "You will run a small MSD program called <code>MSD.py</code> to analyse your simulation results.\n",
    "\n",
    "First you need to **read** in the data. The <code>HISTORY</code> file contains a list of the atomic coordiantes held by the atoms during the simulation. \n",
    "\n",
    "2. **Run** the cell below to read the <code>HISTORY</code> file into the <code>Jupyter Notebook</code>"
   ]
  },
  {
   "cell_type": "code",
   "execution_count": null,
   "metadata": {},
   "outputs": [],
   "source": [
    "## Provide the path to the simulation and the atom that you want data for.\n",
    "data = History(\"Example/HISTORY\", \"F\")"
   ]
  },
  {
   "cell_type": "markdown",
   "metadata": {},
   "source": [
    "<code>data</code> is a class object containing information about the trajectory. \n",
    "More information can be found here https://polypy.readthedocs.io/en/latest/reading_data.html and here https://github.com/symmy596/Polypy/blob/master/polypy/read.py .\n",
    "\n",
    "The next step is to calculate the MSD. \n",
    "\n",
    "3. **Run** the cell below to calculate the MSD of the chosen atom throughout the course of the simulation"
   ]
  },
  {
   "cell_type": "code",
   "execution_count": null,
   "metadata": {},
   "outputs": [],
   "source": [
    "# Run the MSD calculation\n",
    "f_msd = MSD(data.trajectory, sweeps=2)\n",
    "\n",
    "output = f_msd.msd()"
   ]
  },
  {
   "cell_type": "markdown",
   "metadata": {},
   "source": [
    "The MSD calculation function returns an object with imformation about the MSD calculation. \n",
    "\n",
    "More information and a full tutorial on this functionality can be found here https://polypy.readthedocs.io/en/latest/msd_tutorial.html\n",
    "\n",
    "4. **Run** the cell below to give plots of the MSD which have a nice linear relationship. "
   ]
  },
  {
   "cell_type": "code",
   "execution_count": null,
   "metadata": {},
   "outputs": [],
   "source": [
    "ax = plotting.msd_plot(output)\n",
    "plt.show()"
   ]
  },
  {
   "cell_type": "code",
   "execution_count": null,
   "metadata": {},
   "outputs": [],
   "source": [
    "print(\"Three Dimensional Diffusion Coefficient\", output.xyz_diffusion_coefficient())\n",
    "print(\"One Dimensional Diffusion Coefficient in X\", output.x_diffusion_coefficient())\n",
    "print(\"One Dimensional Diffusion Coefficient in Y\", output.y_diffusion_coefficient())\n",
    "print(\"One Dimensional Diffusion Coefficient in Z\", output.z_diffusion_coefficient())"
   ]
  },
  {
   "cell_type": "markdown",
   "metadata": {},
   "source": [
    "# Exercise 5: The Effect of Simulation Length\n",
    "\n",
    "Now we have calculated the diffusion coefficient, we can investigate the influence of simulation length on the diffusion coefficient.\n",
    "\n",
    "It is important to consider the length of your simulation (the number of steps). \n",
    "\n",
    "A second folder Example_2 has been created for you, if you wanted to do this yourself you would follow the instructions in the Week_1 notebook under the section `Changing The Parameters`.  You can change the number of steps by navigating to the folder `Example_2  and changing the number after `steps`."
   ]
  },
  {
   "cell_type": "code",
   "execution_count": null,
   "metadata": {},
   "outputs": [],
   "source": [
    "subprocess.call('dlpoly', cwd='Example_2/')"
   ]
  },
  {
   "cell_type": "markdown",
   "metadata": {},
   "source": [
    "5. **Run** the cell below to calculate and plot the MSD of the chosen atom throughout the course of the simulation"
   ]
  },
  {
   "cell_type": "code",
   "execution_count": null,
   "metadata": {},
   "outputs": [],
   "source": [
    "data = History(\"Example_2/HISTORY\", \"F\")\n",
    "\n",
    "# Run the MSD calculation\n",
    "f_msd = MSD(data.trajectory, sweeps=2)\n",
    "\n",
    "output = f_msd.msd()\n",
    "ax = plotting.msd_plot(output)\n",
    "plt.show()"
   ]
  },
  {
   "cell_type": "code",
   "execution_count": null,
   "metadata": {},
   "outputs": [],
   "source": [
    "print(\"Three Dimensional Diffusion Coefficient\", output.xyz_diffusion_coefficient())\n",
    "print(\"One Dimensional Diffusion Coefficient in X\", output.x_diffusion_coefficient())\n",
    "print(\"One Dimensional Diffusion Coefficient in Y\", output.y_diffusion_coefficient())\n",
    "print(\"One Dimensional Diffusion Coefficient in Z\", output.z_diffusion_coefficient())"
   ]
  },
  {
   "cell_type": "markdown",
   "metadata": {},
   "source": [
    "You will hopefully see that your MSD plot has become considerably less linear. This shows that your simulation has not run long enough and your results will be unrealiable. \n",
    "\n",
    "You will hopefully also see a change to the value of your diffusion coefficient. \n",
    "**The length of your simulation is something that you should keep in mind for the next 5 weeks.** "
   ]
  },
  {
   "cell_type": "markdown",
   "metadata": {},
   "source": [
    "# Exercise 6: Calculating the Activation Energy"
   ]
  },
  {
   "cell_type": "markdown",
   "metadata": {
    "collapsed": true
   },
   "source": [
    "Now we have investigated the influence of simulation length on the diffusion coefficient, we can calculate the activation energy for F diffusion by applying the Arrhenius equation. \n",
    "\n",
    "To apply the Arrhensius equation, diffusion coefficients from a range of temperatures are required. \n",
    "\n",
    "Common sense and chemical intuition suggest that the higher the temperature, the faster a given chemical reaction will proceed. Quantitatively, this relationship between the rate a reaction proceeds and the temperature is determined by the Arrhenius Equation. \n",
    "\n",
    "At higher temperatures, the probability that two molecules will collide is higher. This higher collision rate results in a higher kinetic energy, which has an effect on the activation energy of the reaction. The activation energy is the amount of energy required to ensure that a reaction happens.  \n",
    "  \n",
    "\\begin{align}\n",
    "k = A * e^{(-Ea / RT)}\n",
    "\\end{align}\n",
    "  \n",
    "where k is the rate coefficient, A is a constant, Ea is the activation energy, R is the universal gas constant, and T is the temperature (in kelvin)."
   ]
  },
  {
   "cell_type": "markdown",
   "metadata": {
    "collapsed": true
   },
   "source": [
    "# Exercise 7: Putting it All Together\n",
    "\n",
    "\n",
    "Using what you have learned through the tutorials above, your task this week is to calculate the activation energy of F diffusion in CaF$_2$. \n",
    "\n",
    "1. You will need to **select** a temperature range and carry out simulations at different temperatures within that range. \n",
    "\n",
    "#### Questions to answer:\n",
    "\n",
    "- In what temperature range is CaF$_2$ completely solid i.e. no diffusion?\n",
    "- In what range is fluorine essentially liquid i.e. fluorine diffusion with no calcium diffusion?\n",
    "- What is the melting temperature of CaF$_2$?\n",
    "- Plot an Arrhenius plot and determine the activation energies in temperature range - You will need to rearange the equation. \n",
    "\n",
    "\n",
    "You are encouraged to split the work up within your group and to learn how to view the simulation \"movie\" using VMD (Ask a demonstrator). VMD is a fantastic program that allows you to visualise your simulation, included below is a link to a video showing a short snippet of an MD simulation of CaF$_2$. A single F atom has been highlighted to show that diffusion is occuring. "
   ]
  },
  {
   "cell_type": "markdown",
   "metadata": {},
   "source": [
    "The video won't run on the server so download the [video](./figures/VMD_example.mp4) (right click and save links as) and open it on your PC."
   ]
  },
  {
   "cell_type": "markdown",
   "metadata": {},
   "source": [
    "Furthermore, VMD can also be used to generate images showing the entire trajectory of the simulation, e.g.\n",
    "\n",
    "\n",
    "<center>\n",
    "    <br>\n",
    "    <img src=\"./figures/CaF2.png\\\" width=\\\"400px\\\">\n",
    "    <i>Figure 2. A figure showing all positions occupied by F during an MD simulation at 1500 K. F positions are shown in orange and Ca atoms are shown in green.</i>\n",
    "    <br>\n",
    "</center>\n",
    "  "
   ]
  },
  {
   "cell_type": "markdown",
   "metadata": {},
   "source": [
    "To save you time you can use the function declared at the start of this notebook to pull out a diffusion coefficient directly from the simulation output file. <code>MSD.py</code> is a small code to allow visualisation of the MSD plot but it is not neccesary every time you want the diffusion coefficient. \n",
    "\n",
    "It is up to you how you organise/create your directories but it is recommended that you start a new notebook. \n",
    "\n",
    "Use the commands/functions used in this notebook to: \n",
    "1. Generate your input files\n",
    "2. Run <code>DL_POLY</code>\n",
    "3. Extract the diffusion coefficient of F diffusion \n",
    "\n",
    "Then write your own code to:\n",
    "\n",
    "4. Generate an Arrhenius plot \n",
    "5. Calculate the activation energies of F diffusion\n",
    "\n",
    "If you finish early then feel free to start the week 4 exercises. "
   ]
  }
 ],
 "metadata": {
  "kernelspec": {
   "display_name": "Python 3",
   "language": "python",
   "name": "python3"
  },
  "language_info": {
   "codemirror_mode": {
    "name": "ipython",
    "version": 3
   },
   "file_extension": ".py",
   "mimetype": "text/x-python",
   "name": "python",
   "nbconvert_exporter": "python",
   "pygments_lexer": "ipython3",
   "version": "3.8.3"
  }
 },
 "nbformat": 4,
 "nbformat_minor": 2
}
